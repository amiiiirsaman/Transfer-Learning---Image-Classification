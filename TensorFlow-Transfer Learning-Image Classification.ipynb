{
 "cells": [
  {
   "cell_type": "code",
   "execution_count": 1,
   "metadata": {
    "slideshow": null
   },
   "outputs": [],
   "source": [
    "import seaborn as sns\n",
    "sns.set()"
   ]
  },
  {
   "cell_type": "markdown",
   "metadata": {
    "slideshow": null
   },
   "source": [
    "# Image Classification with TensorFlow"
   ]
  },
  {
   "cell_type": "markdown",
   "metadata": {
    "slideshow": null
   },
   "source": [
    "In this project, I build a series of models to classify a series of images into one of ten classes. For expediency, these images are pretty small ($32\\times32\\times3$).  This can make classification a bit tricky&mdash;human performance is only about 94%. \n",
    "\n",
    "I will be use both a training set and a validation set.  Ground truth values are for the training set. I train my models on this set, and then make predictions for each of the validation images. "
   ]
  },
  {
   "cell_type": "markdown",
   "metadata": {
    "slideshow": null
   },
   "source": [
    "## Downloading the data"
   ]
  },
  {
   "cell_type": "markdown",
   "metadata": {
    "slideshow": null
   },
   "source": [
    "I will be using the `CIFAR-10` data set.  It consists of 60,000 images, each $32\\times32$ color pixels, each belonging to one of ten classes.  The following cell will download the data, in NumPy's `.npy` format."
   ]
  },
  {
   "cell_type": "code",
   "execution_count": 3,
   "metadata": {
    "slideshow": null
   },
   "outputs": [],
   "source": [
    "!aws s3 sync s3://data/cifar10/ ."
   ]
  },
  {
   "cell_type": "markdown",
   "metadata": {
    "slideshow": null
   },
   "source": [
    "I can load in the data like so:"
   ]
  },
  {
   "cell_type": "code",
   "execution_count": 4,
   "metadata": {
    "slideshow": null
   },
   "outputs": [],
   "source": [
    "import numpy as np\n",
    "import gzip\n",
    "\n",
    "train_images = np.load(gzip.open('train_images.npy.gz', 'rb'))\n",
    "train_labels = np.load(gzip.open('train_labels.npy.gz', 'rb'))\n",
    "validation_images = np.load(gzip.open('validation_images.npy.gz', 'rb'))"
   ]
  },
  {
   "cell_type": "markdown",
   "metadata": {
    "slideshow": null
   },
   "source": [
    "The images are stored as four-dimensional arrays.  The first index indicates the image number, the second and third the $x$ and $y$ positions, and the fourth index the color channel.  Each pixel color is a floating point number between 0 and 1.  This convention allows us to view the images with matplotlib:"
   ]
  },
  {
   "cell_type": "code",
   "execution_count": 5,
   "metadata": {
    "slideshow": null
   },
   "outputs": [
    {
     "data": {
      "text/plain": [
       "<matplotlib.image.AxesImage at 0x7fa095c3b6a0>"
      ]
     },
     "execution_count": 5,
     "metadata": {},
     "output_type": "execute_result"
    },
    {
     "data": {
      "image/png": "[encoded data removed]",
      "text/plain": [
       "<Figure size 432x288 with 1 Axes>"
      ]
     },
     "metadata": {},
     "output_type": "display_data"
    }
   ],
   "source": [
    "import matplotlib.pyplot\n",
    "matplotlib.pyplot.rcParams[\"axes.grid\"] = False  #  Remove the grid lines from the image.\n",
    "matplotlib.pyplot.imshow(train_images[0])"
   ]
  },
  {
   "cell_type": "code",
   "execution_count": 6,
   "metadata": {},
   "outputs": [
    {
     "data": {
      "text/plain": [
       "50000"
      ]
     },
     "execution_count": 6,
     "metadata": {},
     "output_type": "execute_result"
    }
   ],
   "source": [
    "len(train_images)"
   ]
  },
  {
   "cell_type": "markdown",
   "metadata": {
    "slideshow": null
   },
   "source": [
    "The classes have already been numbered 0-9 for us; those numbers are stored in the vector `train_labels`."
   ]
  },
  {
   "cell_type": "code",
   "execution_count": 7,
   "metadata": {
    "slideshow": null
   },
   "outputs": [
    {
     "data": {
      "text/plain": [
       "6"
      ]
     },
     "execution_count": 7,
     "metadata": {},
     "output_type": "execute_result"
    }
   ],
   "source": [
    "train_labels[0]"
   ]
  },
  {
   "cell_type": "code",
   "execution_count": 8,
   "metadata": {},
   "outputs": [
    {
     "data": {
      "text/plain": [
       "50000"
      ]
     },
     "execution_count": 8,
     "metadata": {},
     "output_type": "execute_result"
    }
   ],
   "source": [
    "len(train_labels)"
   ]
  },
  {
   "cell_type": "markdown",
   "metadata": {
    "slideshow": null
   },
   "source": [
    "The human-readable names associated with this classes are"
   ]
  },
  {
   "cell_type": "code",
   "execution_count": 9,
   "metadata": {
    "slideshow": null
   },
   "outputs": [],
   "source": [
    "label_names = ['airplane', 'automobile', 'bird', 'cat', 'deer',\n",
    "               'dog', 'frog', 'horse', 'ship', 'truck']"
   ]
  },
  {
   "cell_type": "code",
   "execution_count": 10,
   "metadata": {
    "slideshow": null
   },
   "outputs": [
    {
     "data": {
      "text/plain": [
       "'frog'"
      ]
     },
     "execution_count": 10,
     "metadata": {},
     "output_type": "execute_result"
    }
   ],
   "source": [
    "label_names[train_labels[0]]"
   ]
  },
  {
   "cell_type": "markdown",
   "metadata": {
    "slideshow": null
   },
   "source": [
    "So I can see that the image above is a frog.  "
   ]
  },
  {
   "cell_type": "markdown",
   "metadata": {
    "slideshow": null
   },
   "source": [
    "## Perceptual Delta"
   ]
  },
  {
   "cell_type": "markdown",
   "metadata": {
    "slideshow": null
   },
   "source": [
    "Since I already have a number of labeled images, a simple approach would be to measure the difference between two images, and choose the label corresponding to nearby images.  To do this, I need to develop a metric to determine the distance between two images.  I'll make the simplifying (and completely wrong) assumption that this is just the average difference between the colors of the corresponding pixels in the two images.\n",
    "\n",
    "While I could just take RMS difference of the red, green, and blue pixels, I'll be slightly more sophisticated and look at human vision for a metric.  \n",
    "\n",
    "It turns out that modeling human perception is [extraordinarily complicated](https://en.wikipedia.org/wiki/Color_difference#CIEDE2000).  I'm going to use a [simplified model](https://www.compuphase.com/cmetric.htm):\n",
    "\n",
    "$$\\Delta C \\equiv \\sqrt{2 \\Delta R^2 + 4 \\Delta G^2 + 3 \\Delta B^2 + \\bar R\\left(\\Delta R^2 - \\Delta B^2 \\right)} $$\n",
    "where $(R_1, G_1, B_1)$ and $(R_2, G_2, B_2)$ are the RGB components of the two colors and\n",
    "$$\\begin{align}\n",
    "\\Delta R &= R_1 - R_2 \\\\\n",
    "\\Delta G &= G_1 - G_2 \\\\\n",
    "\\Delta B &= B_1 - B_2 \\\\\n",
    "\\bar R &= \\textstyle\\frac{1}{2}\\left(R_1 + R_2\\right)\n",
    "\\end{align}$$\n",
    "\n",
    "This accounts for the fact that our eyes are most sensitive to green and least sensitive to red, and that perception is not constant with hue.\n",
    "\n",
    "I'll build a graph that takes in a series of images, as well as a base image, and returns a result containing the $\\Delta C$ value (for each pixel) between the base image and each image in the series.  \n",
    "\n",
    "(Note that `images` will be a stack of images, while `base` is a single image. Since the function is decorated with `tf.function` the computations within the function will be recorded in a computation graph and the output from this function will be a tensor.)"
   ]
  },
  {
   "cell_type": "code",
   "execution_count": 11,
   "metadata": {},
   "outputs": [
    {
     "data": {
      "text/plain": [
       "array([[0.3647213 , 0.24415225, 0.16955018, ..., 0.12735103, 0.11640139,\n",
       "        0.09597848],\n",
       "       [0.30142257, 0.3233372 , 0.24029219, ..., 0.14173011, 0.09118032,\n",
       "        0.07752404],\n",
       "       [0.30142257, 0.2971319 , 0.20338331, ..., 0.09597848, 0.07111112,\n",
       "        0.06903499],\n",
       "       ...,\n",
       "       [0.47097272, 0.37425607, 0.3647213 , ..., 0.02712803, 0.05722414,\n",
       "        0.13301039],\n",
       "       [0.41868514, 0.37425607, 0.38878897, ..., 0.16315264, 0.23266436,\n",
       "        0.2639139 ],\n",
       "       [0.40859672, 0.3839139 , 0.40859672, ..., 0.31447908, 0.31447908,\n",
       "        0.31447908]], dtype=float32)"
      ]
     },
     "execution_count": 11,
     "metadata": {},
     "output_type": "execute_result"
    }
   ],
   "source": [
    "(train_images[1][:,:,0]**2)"
   ]
  },
  {
   "cell_type": "code",
   "execution_count": 12,
   "metadata": {},
   "outputs": [
    {
     "data": {
      "text/plain": [
       "array([[0.6039216 , 0.49411765, 0.4117647 , ..., 0.35686275, 0.34117648,\n",
       "        0.30980393],\n",
       "       [0.54901963, 0.5686275 , 0.49019608, ..., 0.3764706 , 0.3019608 ,\n",
       "        0.2784314 ],\n",
       "       [0.54901963, 0.54509807, 0.4509804 , ..., 0.30980393, 0.26666668,\n",
       "        0.2627451 ],\n",
       "       ...,\n",
       "       [0.6862745 , 0.6117647 , 0.6039216 , ..., 0.16470589, 0.23921569,\n",
       "        0.3647059 ],\n",
       "       [0.64705884, 0.6117647 , 0.62352943, ..., 0.40392157, 0.48235294,\n",
       "        0.5137255 ],\n",
       "       [0.6392157 , 0.61960787, 0.6392157 , ..., 0.56078434, 0.56078434,\n",
       "        0.56078434]], dtype=float32)"
      ]
     },
     "execution_count": 12,
     "metadata": {},
     "output_type": "execute_result"
    }
   ],
   "source": [
    "train_images[1][:,:,0]"
   ]
  },
  {
   "cell_type": "code",
   "execution_count": 13,
   "metadata": {
    "slideshow": null
   },
   "outputs": [],
   "source": [
    "import tensorflow as tf\n",
    "\n",
    "@tf.function\n",
    "def delta_func(images, base):\n",
    "    return  tf.sqrt(2*(images[:,:,0]-base[:,:,0])**2+\\\n",
    "                    4*(images[:,:,1]-base[:,:,1])**2+\\\n",
    "                    3*(images[:,:,2]-base[:,:,2])**2+\\\n",
    "                    (images[:,:,0]+base[:,:,0])/2*((images[:,:,0]-base[:,:,0])**2-(images[:,:,2]-base[:,:,2])**2))"
   ]
  },
  {
   "cell_type": "markdown",
   "metadata": {
    "slideshow": null
   },
   "source": [
    "As stated, for two images, $I_1$ and $I_2$, I define the distance between $I_1$ and $I_2$ as the average $\\Delta C$ value over the whole image, that is:\n",
    "\n",
    "$$d(I_1, I_2) = \\frac{1}{N}\\sum_{p_j} \\Delta C(p_j)$$\n",
    "where the sum is over all pixels $p_j$, $\\Delta C(p_2)$ is the $\\Delta C$ value for the pixel $p_j$, and $N$ is the total number of pixels in each image ($N= 32\\times 32$ in our case).\n",
    "\n",
    "Using `delta_func` compute the distance between the first validation image and all of the training images.\n"
   ]
  },
  {
   "cell_type": "code",
   "execution_count": 14,
   "metadata": {},
   "outputs": [],
   "source": [
    "mydiff = delta_func(train_images[0],validation_images[0])"
   ]
  },
  {
   "cell_type": "code",
   "execution_count": 15,
   "metadata": {},
   "outputs": [],
   "source": [
    "full_deltas = {}\n",
    "for i in range(50000):\n",
    "    delta_image = delta_func(train_images[i],validation_images[0])\n",
    "    full_deltas[i]=delta_image.numpy().mean()"
   ]
  },
  {
   "cell_type": "code",
   "execution_count": 16,
   "metadata": {
    "slideshow": null
   },
   "outputs": [],
   "source": [
    "deltas = sorted(full_deltas.items(),key=lambda item :item[1])"
   ]
  },
  {
   "cell_type": "code",
   "execution_count": 17,
   "metadata": {},
   "outputs": [],
   "source": [
    "indices = [delta[0] for delta in deltas[:100]]"
   ]
  },
  {
   "cell_type": "markdown",
   "metadata": {
    "slideshow": null
   },
   "source": [
    "From these, find the 100 closest images from the training set to this first validation image.  "
   ]
  },
  {
   "cell_type": "markdown",
   "metadata": {
    "slideshow": null
   },
   "source": [
    "## Softmax model"
   ]
  },
  {
   "cell_type": "markdown",
   "metadata": {
    "slideshow": null
   },
   "source": [
    "I could use this delta function to measure distances from images with known classes, but that's not really the Deep Learning Way (TM). Instead, I'll let neural networks figure out how to connect pixel values to classes.\n",
    "\n",
    "I'll start with something that barely qualifies as a neural network: a softmax classifier. This has no hidden layers; instead a single dense layer takes $32\\times32\\times3$ inputs and produces 10 outputs, one for each class. It should use a softmax activation and a `CategoricalCrossentropy` loss function.\n",
    "\n",
    "I'll build such a model and train it on the training data. Then, will use this model to make a prediction on each of the 10,000 validation images.  \n",
    "\n",
    "Looking only at the smallest distance is throwing some information away. I would expect some classes to have more variation that others. Also, I would expect correlation between the classes&mdash; a small distance to *cat* is probably more likely for *dog* than for *airplane*.\n",
    "\n",
    "Instead of a trying to work out these effects heuristically, let the computer do it. I'll build a softmax model that takes as input features the distances from all ten typical images and makes a class prediction from those. Again, will use this to predict the class for each of the validation images. "
   ]
  },
  {
   "cell_type": "code",
   "execution_count": 19,
   "metadata": {
    "slideshow": null
   },
   "outputs": [],
   "source": [
    "import seaborn as sns\n",
    "sns.set()\n",
    "\n",
    "import numpy as np\n",
    "import tensorflow as tf\n",
    "from tensorflow import keras\n",
    "\n",
    "import matplotlib.pyplot as plt\n",
    "\n",
    "# from pylib.draw_nn import draw_neural_net_fig"
   ]
  },
  {
   "cell_type": "code",
   "execution_count": 20,
   "metadata": {},
   "outputs": [],
   "source": [
    "model = keras.models.Sequential()"
   ]
  },
  {
   "cell_type": "code",
   "execution_count": 21,
   "metadata": {},
   "outputs": [],
   "source": [
    "from tensorflow.keras.utils import to_categorical as one_hot\n",
    "\n",
    "y_train_hot = one_hot(train_labels)\n",
    "N_PIXELS = train_images.shape[1]*train_images.shape[2]*train_images.shape[3]"
   ]
  },
  {
   "cell_type": "code",
   "execution_count": 22,
   "metadata": {},
   "outputs": [],
   "source": [
    "# model.add(keras.layers.Input(shape = (32,32,3)))\n",
    "# model.add(flatten())\n",
    "model.add(keras.layers.Flatten(input_shape=(32,32,3)))\n",
    "model.add(\n",
    "    keras.layers.Dense(\n",
    "        10,\n",
    "        activation='softmax',\n",
    "        use_bias=True,  # The default\n",
    "        kernel_initializer=keras.initializers.TruncatedNormal(stddev=N_PIXELS**-0.5)\n",
    "    )\n",
    ")"
   ]
  },
  {
   "cell_type": "code",
   "execution_count": 23,
   "metadata": {},
   "outputs": [],
   "source": [
    "model.compile(loss='categorical_crossentropy',\n",
    "              optimizer=keras.optimizers.SGD(lr=0.01),\n",
    "              metrics=['accuracy'])"
   ]
  },
  {
   "cell_type": "code",
   "execution_count": 24,
   "metadata": {},
   "outputs": [
    {
     "name": "stdout",
     "output_type": "stream",
     "text": [
      "Epoch 1/25\n",
      "167/167 [==============================] - 1s 5ms/step - loss: 2.0832 - accuracy: 0.2496\n",
      "Epoch 2/25\n",
      "167/167 [==============================] - 1s 5ms/step - loss: 1.9344 - accuracy: 0.3271\n",
      "Epoch 3/25\n",
      "167/167 [==============================] - 1s 6ms/step - loss: 1.8841 - accuracy: 0.3481\n",
      "Epoch 4/25\n",
      "167/167 [==============================] - 1s 6ms/step - loss: 1.8572 - accuracy: 0.3583\n",
      "Epoch 5/25\n",
      "167/167 [==============================] - 1s 5ms/step - loss: 1.8386 - accuracy: 0.3659\n",
      "Epoch 6/25\n",
      "167/167 [==============================] - 1s 5ms/step - loss: 1.8255 - accuracy: 0.3708\n",
      "Epoch 7/25\n",
      "167/167 [==============================] - 1s 5ms/step - loss: 1.8143 - accuracy: 0.3744\n",
      "Epoch 8/25\n",
      "167/167 [==============================] - 1s 5ms/step - loss: 1.8055 - accuracy: 0.3775\n",
      "Epoch 9/25\n",
      "167/167 [==============================] - 1s 5ms/step - loss: 1.7977 - accuracy: 0.3811\n",
      "Epoch 10/25\n",
      "167/167 [==============================] - 1s 5ms/step - loss: 1.7908 - accuracy: 0.3837\n",
      "Epoch 11/25\n",
      "167/167 [==============================] - 1s 5ms/step - loss: 1.7851 - accuracy: 0.3854\n",
      "Epoch 12/25\n",
      "167/167 [==============================] - 1s 5ms/step - loss: 1.7795 - accuracy: 0.3872\n",
      "Epoch 13/25\n",
      "167/167 [==============================] - 1s 5ms/step - loss: 1.7754 - accuracy: 0.3897\n",
      "Epoch 14/25\n",
      "167/167 [==============================] - 1s 6ms/step - loss: 1.7719 - accuracy: 0.3922\n",
      "Epoch 15/25\n",
      "167/167 [==============================] - 1s 6ms/step - loss: 1.7666 - accuracy: 0.3945\n",
      "Epoch 16/25\n",
      "167/167 [==============================] - 1s 6ms/step - loss: 1.7623 - accuracy: 0.3958\n",
      "Epoch 17/25\n",
      "167/167 [==============================] - 1s 5ms/step - loss: 1.7599 - accuracy: 0.3963\n",
      "Epoch 18/25\n",
      "167/167 [==============================] - 1s 5ms/step - loss: 1.7573 - accuracy: 0.3968\n",
      "Epoch 19/25\n",
      "167/167 [==============================] - 1s 5ms/step - loss: 1.7536 - accuracy: 0.3988\n",
      "Epoch 20/25\n",
      "167/167 [==============================] - 1s 5ms/step - loss: 1.7511 - accuracy: 0.3992\n",
      "Epoch 21/25\n",
      "167/167 [==============================] - 1s 5ms/step - loss: 1.7479 - accuracy: 0.4006\n",
      "Epoch 22/25\n",
      "167/167 [==============================] - 1s 5ms/step - loss: 1.7463 - accuracy: 0.4025\n",
      "Epoch 23/25\n",
      "167/167 [==============================] - 1s 5ms/step - loss: 1.7433 - accuracy: 0.4032\n",
      "Epoch 24/25\n",
      "167/167 [==============================] - 1s 6ms/step - loss: 1.7407 - accuracy: 0.4038\n",
      "Epoch 25/25\n",
      "167/167 [==============================] - 1s 5ms/step - loss: 1.7386 - accuracy: 0.4042\n"
     ]
    }
   ],
   "source": [
    "history = model.fit(train_images, y_train_hot,\n",
    "                    epochs=25,\n",
    "                    batch_size=300)"
   ]
  },
  {
   "cell_type": "code",
   "execution_count": 25,
   "metadata": {},
   "outputs": [],
   "source": [
    "predicted_classes = np.argmax(model.predict(validation_images),axis=1)"
   ]
  },
  {
   "cell_type": "markdown",
   "metadata": {
    "slideshow": null
   },
   "source": [
    "## Fully-connected model"
   ]
  },
  {
   "cell_type": "markdown",
   "metadata": {
    "slideshow": null
   },
   "source": [
    "Now, I'll add a hidden layer to this network. Will train this network on the pixel values, and once again use it to predict the most likely class for each of the validation images."
   ]
  },
  {
   "cell_type": "code",
   "execution_count": 27,
   "metadata": {
    "slideshow": null
   },
   "outputs": [],
   "source": [
    "hidden_size = 1000\n",
    "drop_rate = 0.5 "
   ]
  },
  {
   "cell_type": "code",
   "execution_count": 28,
   "metadata": {},
   "outputs": [],
   "source": [
    "model2 = keras.models.Sequential()\n",
    "model2.add(keras.layers.Flatten(input_shape=(32,32,3)))\n",
    "\n"
   ]
  },
  {
   "cell_type": "code",
   "execution_count": 29,
   "metadata": {},
   "outputs": [],
   "source": [
    "model2.add(keras.layers.Dropout(drop_rate))\n",
    "\n",
    "model2.add(\n",
    "    keras.layers.Dense(\n",
    "        hidden_size,\n",
    "        activation='relu',\n",
    "        use_bias=True,  # The default\n",
    "        kernel_initializer=keras.initializers.TruncatedNormal(stddev=N_PIXELS**-0.5)\n",
    "    )\n",
    ")"
   ]
  },
  {
   "cell_type": "code",
   "execution_count": 30,
   "metadata": {},
   "outputs": [],
   "source": [
    "model2.add(keras.layers.Dropout(drop_rate))\n",
    "\n",
    "model2.add(\n",
    "    keras.layers.Dense(\n",
    "        10,\n",
    "        activation='softmax',\n",
    "        use_bias=True,  # The default\n",
    "    )\n",
    ")"
   ]
  },
  {
   "cell_type": "code",
   "execution_count": 31,
   "metadata": {},
   "outputs": [],
   "source": [
    "model2.compile(loss='categorical_crossentropy',\n",
    "              optimizer=keras.optimizers.SGD(lr=0.01),\n",
    "              metrics=['accuracy'])"
   ]
  },
  {
   "cell_type": "code",
   "execution_count": 32,
   "metadata": {},
   "outputs": [
    {
     "name": "stdout",
     "output_type": "stream",
     "text": [
      "Epoch 1/25\n",
      "167/167 [==============================] - 6s 33ms/step - loss: 2.2619 - accuracy: 0.1762\n",
      "Epoch 2/25\n",
      "167/167 [==============================] - 5s 33ms/step - loss: 2.0951 - accuracy: 0.2327\n",
      "Epoch 3/25\n",
      "167/167 [==============================] - 5s 33ms/step - loss: 2.0386 - accuracy: 0.2569\n",
      "Epoch 4/25\n",
      "167/167 [==============================] - 6s 33ms/step - loss: 2.0014 - accuracy: 0.2732\n",
      "Epoch 5/25\n",
      "167/167 [==============================] - 5s 33ms/step - loss: 1.9744 - accuracy: 0.2835\n",
      "Epoch 6/25\n",
      "167/167 [==============================] - 6s 33ms/step - loss: 1.9617 - accuracy: 0.2908\n",
      "Epoch 7/25\n",
      "167/167 [==============================] - 5s 32ms/step - loss: 1.9454 - accuracy: 0.2993\n",
      "Epoch 8/25\n",
      "167/167 [==============================] - 5s 33ms/step - loss: 1.9299 - accuracy: 0.3073\n",
      "Epoch 9/25\n",
      "167/167 [==============================] - 5s 33ms/step - loss: 1.9178 - accuracy: 0.3095\n",
      "Epoch 10/25\n",
      "167/167 [==============================] - 5s 33ms/step - loss: 1.9047 - accuracy: 0.3162\n",
      "Epoch 11/25\n",
      "167/167 [==============================] - 5s 32ms/step - loss: 1.8956 - accuracy: 0.3210\n",
      "Epoch 12/25\n",
      "167/167 [==============================] - 5s 32ms/step - loss: 1.8849 - accuracy: 0.3249\n",
      "Epoch 13/25\n",
      "167/167 [==============================] - 5s 32ms/step - loss: 1.8798 - accuracy: 0.3251\n",
      "Epoch 14/25\n",
      "167/167 [==============================] - 5s 32ms/step - loss: 1.8690 - accuracy: 0.3273\n",
      "Epoch 15/25\n",
      "167/167 [==============================] - 6s 33ms/step - loss: 1.8649 - accuracy: 0.3314\n",
      "Epoch 16/25\n",
      "167/167 [==============================] - 5s 32ms/step - loss: 1.8589 - accuracy: 0.3356\n",
      "Epoch 17/25\n",
      "167/167 [==============================] - 5s 33ms/step - loss: 1.8506 - accuracy: 0.3392\n",
      "Epoch 18/25\n",
      "167/167 [==============================] - 5s 32ms/step - loss: 1.8461 - accuracy: 0.3403\n",
      "Epoch 19/25\n",
      "167/167 [==============================] - 5s 32ms/step - loss: 1.8368 - accuracy: 0.3426\n",
      "Epoch 20/25\n",
      "167/167 [==============================] - 5s 32ms/step - loss: 1.8293 - accuracy: 0.3481\n",
      "Epoch 21/25\n",
      "167/167 [==============================] - 5s 33ms/step - loss: 1.8297 - accuracy: 0.3471\n",
      "Epoch 22/25\n",
      "167/167 [==============================] - 5s 32ms/step - loss: 1.8247 - accuracy: 0.3494\n",
      "Epoch 23/25\n",
      "167/167 [==============================] - 5s 32ms/step - loss: 1.8175 - accuracy: 0.3524\n",
      "Epoch 24/25\n",
      "167/167 [==============================] - 5s 32ms/step - loss: 1.8110 - accuracy: 0.3557\n",
      "Epoch 25/25\n",
      "167/167 [==============================] - 5s 32ms/step - loss: 1.8055 - accuracy: 0.3581\n"
     ]
    }
   ],
   "source": [
    "history2 = model2.fit(train_images, y_train_hot,\n",
    "                    epochs=25,\n",
    "                    batch_size=300)"
   ]
  },
  {
   "cell_type": "code",
   "execution_count": 33,
   "metadata": {},
   "outputs": [],
   "source": [
    "predicted_classes = np.argmax(model2.predict(validation_images),axis=1)"
   ]
  },
  {
   "cell_type": "markdown",
   "metadata": {
    "slideshow": null
   },
   "source": [
    "## Convolutional model"
   ]
  },
  {
   "cell_type": "markdown",
   "metadata": {
    "slideshow": null
   },
   "source": [
    "Convolutional neural networks have had a lot of success in image classification. I'll build a neural network with convolutional layers to improve the performance."
   ]
  },
  {
   "cell_type": "code",
   "execution_count": 62,
   "metadata": {
    "slideshow": null
   },
   "outputs": [],
   "source": [
    "img_size = 28\n",
    "img_size_flat = img_size * img_size\n",
    "img_shape = (img_size, img_size)\n",
    "\n",
    "n_classes = 10\n",
    "n_channels = 1\n",
    "filt_size = [5, 5] # 5x5 pixel filters\n",
    "\n",
    "batch_size = 50\n",
    "n_epochs = 5\n",
    "\n",
    "hidden_size = 1000"
   ]
  },
  {
   "cell_type": "code",
   "execution_count": 63,
   "metadata": {},
   "outputs": [],
   "source": [
    "model3 = keras.models.Sequential()\n",
    "\n",
    "model3.add(keras.layers.Conv2D(16, filt_size, padding='same',\n",
    "                              activation='relu'))\n",
    "\n",
    "model3.add(keras.layers.MaxPooling2D(pool_size=(2, 2), strides=(2,2),\n",
    "                                    padding='same'))\n",
    "\n",
    "model3.add(keras.layers.Flatten())\n",
    "\n",
    "model3.add(keras.layers.Dense(hidden_size, activation='relu'))\n",
    "\n",
    "model3.add(\n",
    "    keras.layers.Dense(\n",
    "        10,\n",
    "        activation='softmax',\n",
    "        use_bias=True,  # The default\n",
    "    )\n",
    ")"
   ]
  },
  {
   "cell_type": "code",
   "execution_count": 64,
   "metadata": {},
   "outputs": [],
   "source": [
    "model3.compile(loss='categorical_crossentropy',\n",
    "              optimizer=keras.optimizers.Adam(learning_rate=0.001),\n",
    "              metrics=['accuracy'])"
   ]
  },
  {
   "cell_type": "code",
   "execution_count": 65,
   "metadata": {},
   "outputs": [
    {
     "name": "stdout",
     "output_type": "stream",
     "text": [
      "Epoch 1/25\n",
      "167/167 [==============================] - 29s 176ms/step - loss: 1.8622 - accuracy: 0.3478\n",
      "Epoch 2/25\n",
      "167/167 [==============================] - 29s 174ms/step - loss: 1.3958 - accuracy: 0.5071\n",
      "Epoch 3/25\n",
      "167/167 [==============================] - 29s 174ms/step - loss: 1.2249 - accuracy: 0.5714\n",
      "Epoch 4/25\n",
      "167/167 [==============================] - 29s 174ms/step - loss: 1.1188 - accuracy: 0.6085\n",
      "Epoch 5/25\n",
      "167/167 [==============================] - 29s 173ms/step - loss: 1.0390 - accuracy: 0.6371\n",
      "Epoch 6/25\n",
      "167/167 [==============================] - 29s 173ms/step - loss: 0.9751 - accuracy: 0.6610\n",
      "Epoch 7/25\n",
      "167/167 [==============================] - 29s 174ms/step - loss: 0.9067 - accuracy: 0.6820\n",
      "Epoch 8/25\n",
      "167/167 [==============================] - 29s 174ms/step - loss: 0.8549 - accuracy: 0.7036\n",
      "Epoch 9/25\n",
      "167/167 [==============================] - 29s 173ms/step - loss: 0.8008 - accuracy: 0.7212\n",
      "Epoch 10/25\n",
      "167/167 [==============================] - 29s 174ms/step - loss: 0.7351 - accuracy: 0.7465\n",
      "Epoch 11/25\n",
      "167/167 [==============================] - 29s 174ms/step - loss: 0.6869 - accuracy: 0.7630\n",
      "Epoch 12/25\n",
      "167/167 [==============================] - 29s 174ms/step - loss: 0.6253 - accuracy: 0.7865\n",
      "Epoch 13/25\n",
      "167/167 [==============================] - 29s 173ms/step - loss: 0.5782 - accuracy: 0.8053\n",
      "Epoch 14/25\n",
      "167/167 [==============================] - 29s 173ms/step - loss: 0.5277 - accuracy: 0.8223\n",
      "Epoch 15/25\n",
      "167/167 [==============================] - 29s 173ms/step - loss: 0.4737 - accuracy: 0.8439\n",
      "Epoch 16/25\n",
      "167/167 [==============================] - 29s 174ms/step - loss: 0.4297 - accuracy: 0.8605\n",
      "Epoch 17/25\n",
      "167/167 [==============================] - 29s 175ms/step - loss: 0.3814 - accuracy: 0.8771\n",
      "Epoch 18/25\n",
      "167/167 [==============================] - 29s 174ms/step - loss: 0.3338 - accuracy: 0.8956\n",
      "Epoch 19/25\n",
      "167/167 [==============================] - 29s 174ms/step - loss: 0.2931 - accuracy: 0.9110\n",
      "Epoch 20/25\n",
      "167/167 [==============================] - 29s 174ms/step - loss: 0.2504 - accuracy: 0.9268\n",
      "Epoch 21/25\n",
      "167/167 [==============================] - 29s 173ms/step - loss: 0.2274 - accuracy: 0.9325\n",
      "Epoch 22/25\n",
      "167/167 [==============================] - 29s 174ms/step - loss: 0.1874 - accuracy: 0.9494\n",
      "Epoch 23/25\n",
      "167/167 [==============================] - 29s 175ms/step - loss: 0.1585 - accuracy: 0.9593\n",
      "Epoch 24/25\n",
      "167/167 [==============================] - 29s 173ms/step - loss: 0.1311 - accuracy: 0.9688\n",
      "Epoch 25/25\n",
      "167/167 [==============================] - 29s 174ms/step - loss: 0.1168 - accuracy: 0.9727\n"
     ]
    }
   ],
   "source": [
    "history3 = model3.fit(train_images, y_train_hot,\n",
    "                    epochs=25,\n",
    "                    batch_size=300)"
   ]
  },
  {
   "cell_type": "code",
   "execution_count": 66,
   "metadata": {},
   "outputs": [],
   "source": [
    "predicted_classes = np.argmax(model3.predict(validation_images),axis=1)"
   ]
  },
  {
   "cell_type": "markdown",
   "metadata": {
    "slideshow": null
   },
   "source": [
    "## Transfer learning"
   ]
  },
  {
   "cell_type": "markdown",
   "metadata": {
    "slideshow": null
   },
   "source": [
    "In transfer learning, I use a network trained on one data set to provide a starting point for the modeling of other data. As I am trying to model color images, I should look for another network trained on color images. Luckily, we have such a network: the Inception network!!\n",
    "\n",
    "The following cell will load the model, omitting its classification layer (since I'm not interested in classifying `ImageNet` images)."
   ]
  },
  {
   "cell_type": "code",
   "execution_count": 68,
   "metadata": {
    "slideshow": null
   },
   "outputs": [
    {
     "name": "stdout",
     "output_type": "stream",
     "text": [
      "Downloading data from https://storage.googleapis.com/tensorflow/keras-applications/inception_v3/inception_v3_weights_tf_dim_ordering_tf_kernels.h5\n",
      "96116736/96112376 [==============================] - 1s 0us/step\n"
     ]
    }
   ],
   "source": [
    "# include_top=False will discard avg_pool before prediction layer\n",
    "inception = tf.keras.applications.inception_v3.InceptionV3(include_top=True, input_shape=(299, 299, 3))\n",
    "inception = tf.keras.Model([inception.input], [inception.layers[-2].output]) # manually discard prediction layer"
   ]
  },
  {
   "cell_type": "markdown",
   "metadata": {
    "slideshow": null
   },
   "source": [
    "In a transfer learning setup, I will use the first part of the trained network to process the original images, and then train a network to make predictions from the output of the trained network. There are several ways to accomplish this.\n",
    "\n",
    "One approach is to connect the new layers to the output of the existing layers. Data will flow through the pre-trained layers as well as those added. In the training step, only the new layers should be marked as trainable.\n",
    "\n",
    "This can be a bit wasteful when multiple epochs of training will be undertaken since I recalculate the latent vectors on every training step.  With a smaller data set, such as this, it can be more efficient to pre-calculate the *latent vectors* that are the output of the pre-trained network.  These can be stored and used as input for training a smaller, separate network to make the predictions. \n",
    "\n",
    "Images should be fed to the `inception` network and then vectorized!"
   ]
  },
  {
   "cell_type": "markdown",
   "metadata": {
    "slideshow": null
   },
   "source": [
    "I've loaded the `inception` network with its native image shape: $299 \\times 299$.  This implies that I need to upscale our images from $32\\times32$ to $299\\times299$.  There are a number of ways to do this; the reference solution uses `tf.image.resize` with bilinear interpolation.  (More sophisticated resizing methods produce better results, but will take significantly longer!)\n",
    "\n",
    "It may make sense to do the rescaling and latent vector calculation at the same time, to avoid storing the (somewhat large) rescaled images unnecessarily. I also probably want to save those latent vectors to disk, to avoid the need to repeat this calculation later."
   ]
  },
  {
   "cell_type": "markdown",
   "metadata": {
    "slideshow": null
   },
   "source": [
    "With the latent vectors calculated, I can use them as input to train a small neural network to make the final predictions."
   ]
  },
  {
   "cell_type": "code",
   "execution_count": 69,
   "metadata": {
    "slideshow": null
   },
   "outputs": [],
   "source": [
    "import tensorflow as tf\n",
    "import numpy as np\n",
    "import matplotlib.pyplot as plt"
   ]
  },
  {
   "cell_type": "code",
   "execution_count": 70,
   "metadata": {
    "slideshow": null
   },
   "outputs": [
    {
     "data": {
      "text/plain": [
       "<matplotlib.image.AxesImage at 0x7fa042e78100>"
      ]
     },
     "execution_count": 70,
     "metadata": {},
     "output_type": "execute_result"
    },
    {
     "data": {
      "image/png": "[encoded data removed]",
      "text/plain": [
       "<Figure size 432x288 with 1 Axes>"
      ]
     },
     "metadata": {},
     "output_type": "display_data"
    }
   ],
   "source": [
    "testimage = tf.image.resize(train_images[0,:,:,:],size=[299,299])\n",
    "\n",
    "import matplotlib.pyplot\n",
    "matplotlib.pyplot.rcParams[\"axes.grid\"] = False  #  Remove the grid lines from the image.\n",
    "matplotlib.pyplot.imshow(testimage)"
   ]
  },
  {
   "cell_type": "code",
   "execution_count": 71,
   "metadata": {},
   "outputs": [],
   "source": [
    "import pickle\n",
    "last_TDI_question_file = open('latent_vec.pk', 'wb')"
   ]
  },
  {
   "cell_type": "code",
   "execution_count": 72,
   "metadata": {},
   "outputs": [
    {
     "name": "stdout",
     "output_type": "stream",
     "text": [
      "0\n",
      "100\n",
      "200\n",
      "300\n",
      "400\n",
      "500\n",
      "600\n",
      "700\n",
      "800\n",
      "900\n",
      "1000\n",
      "1100\n",
      "1200\n",
      "1300\n",
      "1400\n",
      "1500\n",
      "1600\n",
      "1700\n",
      "1800\n",
      "1900\n",
      "2000\n",
      "2100\n",
      "2200\n",
      "2300\n",
      "2400\n",
      "2500\n",
      "2600\n",
      "2700\n",
      "2800\n",
      "2900\n",
      "3000\n",
      "3100\n",
      "3200\n",
      "3300\n",
      "3400\n",
      "3500\n",
      "3600\n",
      "3700\n",
      "3800\n",
      "3900\n",
      "4000\n",
      "4100\n",
      "4200\n",
      "4300\n",
      "4400\n",
      "4500\n",
      "4600\n",
      "4700\n",
      "4800\n",
      "4900\n",
      "5000\n",
      "5100\n",
      "5200\n",
      "5300\n",
      "5400\n",
      "5500\n",
      "5600\n",
      "5700\n",
      "5800\n",
      "5900\n",
      "6000\n",
      "6100\n",
      "6200\n",
      "6300\n",
      "6400\n",
      "6500\n",
      "6600\n",
      "6700\n",
      "6800\n",
      "6900\n",
      "7000\n",
      "7100\n",
      "7200\n",
      "7300\n",
      "7400\n",
      "7500\n",
      "7600\n",
      "7700\n",
      "7800\n",
      "7900\n",
      "8000\n",
      "8100\n",
      "8200\n",
      "8300\n",
      "8400\n",
      "8500\n",
      "8600\n",
      "8700\n",
      "8800\n",
      "8900\n",
      "9000\n",
      "9100\n",
      "9200\n",
      "9300\n",
      "9400\n",
      "9500\n",
      "9600\n",
      "9700\n",
      "9800\n",
      "9900\n",
      "10000\n",
      "10100\n",
      "10200\n",
      "10300\n",
      "10400\n",
      "10500\n",
      "10600\n",
      "10700\n",
      "10800\n",
      "10900\n",
      "11000\n",
      "11100\n",
      "11200\n",
      "11300\n",
      "11400\n",
      "11500\n",
      "11600\n",
      "11700\n",
      "11800\n",
      "11900\n",
      "12000\n",
      "12100\n",
      "12200\n",
      "12300\n",
      "12400\n",
      "12500\n",
      "12600\n",
      "12700\n",
      "12800\n",
      "12900\n",
      "13000\n",
      "13100\n",
      "13200\n",
      "13300\n",
      "13400\n",
      "13500\n",
      "13600\n",
      "13700\n",
      "13800\n",
      "13900\n",
      "14000\n",
      "14100\n",
      "14200\n",
      "14300\n",
      "14400\n",
      "14500\n",
      "14600\n",
      "14700\n",
      "14800\n",
      "14900\n",
      "15000\n",
      "15100\n",
      "15200\n",
      "15300\n",
      "15400\n",
      "15500\n",
      "15600\n",
      "15700\n",
      "15800\n",
      "15900\n",
      "16000\n",
      "16100\n",
      "16200\n",
      "16300\n",
      "16400\n",
      "16500\n",
      "16600\n",
      "16700\n",
      "16800\n",
      "16900\n",
      "17000\n",
      "17100\n",
      "17200\n",
      "17300\n",
      "17400\n",
      "17500\n",
      "17600\n",
      "17700\n",
      "17800\n",
      "17900\n",
      "18000\n",
      "18100\n",
      "18200\n",
      "18300\n",
      "18400\n",
      "18500\n",
      "18600\n",
      "18700\n",
      "18800\n",
      "18900\n",
      "19000\n",
      "19100\n",
      "19200\n",
      "19300\n",
      "19400\n",
      "19500\n",
      "19600\n",
      "19700\n",
      "19800\n",
      "19900\n",
      "20000\n",
      "20100\n",
      "20200\n",
      "20300\n",
      "20400\n",
      "20500\n",
      "20600\n",
      "20700\n",
      "20800\n",
      "20900\n",
      "21000\n",
      "21100\n",
      "21200\n",
      "21300\n",
      "21400\n",
      "21500\n",
      "21600\n",
      "21700\n",
      "21800\n",
      "21900\n",
      "22000\n",
      "22100\n",
      "22200\n",
      "22300\n",
      "22400\n",
      "22500\n",
      "22600\n",
      "22700\n",
      "22800\n",
      "22900\n",
      "23000\n",
      "23100\n",
      "23200\n",
      "23300\n",
      "23400\n",
      "23500\n",
      "23600\n",
      "23700\n",
      "23800\n",
      "23900\n",
      "24000\n",
      "24100\n",
      "24200\n",
      "24300\n",
      "24400\n",
      "24500\n",
      "24600\n",
      "24700\n",
      "24800\n",
      "24900\n",
      "25000\n",
      "25100\n",
      "25200\n",
      "25300\n",
      "25400\n",
      "25500\n",
      "25600\n",
      "25700\n",
      "25800\n",
      "25900\n",
      "26000\n",
      "26100\n",
      "26200\n",
      "26300\n",
      "26400\n",
      "26500\n",
      "26600\n",
      "26700\n",
      "26800\n",
      "26900\n",
      "27000\n",
      "27100\n",
      "27200\n",
      "27300\n",
      "27400\n",
      "27500\n",
      "27600\n",
      "27700\n",
      "27800\n",
      "27900\n",
      "28000\n",
      "28100\n",
      "28200\n",
      "28300\n",
      "28400\n",
      "28500\n",
      "28600\n",
      "28700\n",
      "28800\n",
      "28900\n",
      "29000\n",
      "29100\n",
      "29200\n",
      "29300\n",
      "29400\n",
      "29500\n",
      "29600\n",
      "29700\n",
      "29800\n",
      "29900\n",
      "30000\n",
      "30100\n",
      "30200\n",
      "30300\n",
      "30400\n",
      "30500\n",
      "30600\n",
      "30700\n",
      "30800\n",
      "30900\n",
      "31000\n",
      "31100\n",
      "31200\n",
      "31300\n",
      "31400\n",
      "31500\n",
      "31600\n",
      "31700\n",
      "31800\n",
      "31900\n",
      "32000\n",
      "32100\n",
      "32200\n",
      "32300\n",
      "32400\n",
      "32500\n",
      "32600\n",
      "32700\n",
      "32800\n",
      "32900\n",
      "33000\n",
      "33100\n",
      "33200\n",
      "33300\n",
      "33400\n",
      "33500\n",
      "33600\n",
      "33700\n",
      "33800\n",
      "33900\n",
      "34000\n",
      "34100\n",
      "34200\n",
      "34300\n",
      "34400\n",
      "34500\n",
      "34600\n",
      "34700\n",
      "34800\n",
      "34900\n",
      "35000\n",
      "35100\n",
      "35200\n",
      "35300\n",
      "35400\n",
      "35500\n",
      "35600\n",
      "35700\n",
      "35800\n",
      "35900\n",
      "36000\n",
      "36100\n",
      "36200\n",
      "36300\n",
      "36400\n",
      "36500\n",
      "36600\n",
      "36700\n",
      "36800\n",
      "36900\n",
      "37000\n",
      "37100\n",
      "37200\n",
      "37300\n",
      "37400\n",
      "37500\n",
      "37600\n",
      "37700\n",
      "37800\n",
      "37900\n",
      "38000\n",
      "38100\n",
      "38200\n",
      "38300\n",
      "38400\n",
      "38500\n",
      "38600\n",
      "38700\n",
      "38800\n",
      "38900\n",
      "39000\n",
      "39100\n",
      "39200\n",
      "39300\n",
      "39400\n",
      "39500\n",
      "39600\n",
      "39700\n",
      "39800\n",
      "39900\n",
      "40000\n",
      "40100\n",
      "40200\n",
      "40300\n",
      "40400\n",
      "40500\n",
      "40600\n",
      "40700\n",
      "40800\n",
      "40900\n",
      "41000\n",
      "41100\n",
      "41200\n",
      "41300\n",
      "41400\n",
      "41500\n",
      "41600\n",
      "41700\n",
      "41800\n",
      "41900\n",
      "42000\n",
      "42100\n",
      "42200\n",
      "42300\n",
      "42400\n",
      "42500\n",
      "42600\n",
      "42700\n",
      "42800\n",
      "42900\n",
      "43000\n",
      "43100\n",
      "43200\n",
      "43300\n",
      "43400\n",
      "43500\n",
      "43600\n",
      "43700\n",
      "43800\n",
      "43900\n",
      "44000\n",
      "44100\n",
      "44200\n",
      "44300\n",
      "44400\n",
      "44500\n",
      "44600\n",
      "44700\n",
      "44800\n",
      "44900\n",
      "45000\n",
      "45100\n",
      "45200\n",
      "45300\n",
      "45400\n",
      "45500\n",
      "45600\n",
      "45700\n",
      "45800\n",
      "45900\n",
      "46000\n",
      "46100\n",
      "46200\n",
      "46300\n",
      "46400\n",
      "46500\n",
      "46600\n",
      "46700\n",
      "46800\n",
      "46900\n",
      "47000\n",
      "47100\n",
      "47200\n",
      "47300\n",
      "47400\n",
      "47500\n",
      "47600\n",
      "47700\n",
      "47800\n",
      "47900\n",
      "48000\n",
      "48100\n",
      "48200\n",
      "48300\n",
      "48400\n",
      "48500\n",
      "48600\n",
      "48700\n",
      "48800\n",
      "48900\n",
      "49000\n",
      "49100\n",
      "49200\n",
      "49300\n",
      "49400\n",
      "49500\n",
      "49600\n",
      "49700\n",
      "49800\n",
      "49900\n"
     ]
    }
   ],
   "source": [
    "latent_vec=[]\n",
    "\n",
    "for i in range(0,50000,100):\n",
    "    print(i)\n",
    "    testimage= tf.image.resize(train_images[i:i+100,:,:,:],size=[299,299])\n",
    "    latent_vec.append(inception(testimage))\n",
    "\n",
    "latent_vec = tf.concat(latent_vec, axis=0)\n",
    "\n",
    "pickle.dump(latent_vec, last_TDI_question_file)"
   ]
  },
  {
   "cell_type": "code",
   "execution_count": 73,
   "metadata": {},
   "outputs": [],
   "source": [
    "last_TDI_question_file2 = open('validation_latent.pk', 'wb')"
   ]
  },
  {
   "cell_type": "code",
   "execution_count": 74,
   "metadata": {},
   "outputs": [
    {
     "name": "stdout",
     "output_type": "stream",
     "text": [
      "0\n",
      "100\n",
      "200\n",
      "300\n",
      "400\n",
      "500\n",
      "600\n",
      "700\n",
      "800\n",
      "900\n",
      "1000\n",
      "1100\n",
      "1200\n",
      "1300\n",
      "1400\n",
      "1500\n",
      "1600\n",
      "1700\n",
      "1800\n",
      "1900\n",
      "2000\n",
      "2100\n",
      "2200\n",
      "2300\n",
      "2400\n",
      "2500\n",
      "2600\n",
      "2700\n",
      "2800\n",
      "2900\n",
      "3000\n",
      "3100\n",
      "3200\n",
      "3300\n",
      "3400\n",
      "3500\n",
      "3600\n",
      "3700\n",
      "3800\n",
      "3900\n",
      "4000\n",
      "4100\n",
      "4200\n",
      "4300\n",
      "4400\n",
      "4500\n",
      "4600\n",
      "4700\n",
      "4800\n",
      "4900\n",
      "5000\n",
      "5100\n",
      "5200\n",
      "5300\n",
      "5400\n",
      "5500\n",
      "5600\n",
      "5700\n",
      "5800\n",
      "5900\n",
      "6000\n",
      "6100\n",
      "6200\n",
      "6300\n",
      "6400\n",
      "6500\n",
      "6600\n",
      "6700\n",
      "6800\n",
      "6900\n",
      "7000\n",
      "7100\n",
      "7200\n",
      "7300\n",
      "7400\n",
      "7500\n",
      "7600\n",
      "7700\n",
      "7800\n",
      "7900\n",
      "8000\n",
      "8100\n",
      "8200\n",
      "8300\n",
      "8400\n",
      "8500\n",
      "8600\n",
      "8700\n",
      "8800\n",
      "8900\n",
      "9000\n",
      "9100\n",
      "9200\n",
      "9300\n",
      "9400\n",
      "9500\n",
      "9600\n",
      "9700\n",
      "9800\n",
      "9900\n"
     ]
    }
   ],
   "source": [
    "validation_latent=[]\n",
    "\n",
    "for i in range(0,10000,100):\n",
    "    print(i)\n",
    "    testimage= tf.image.resize(validation_images[i:i+100,:,:,:],size=[299,299])\n",
    "    validation_latent.append(inception(testimage))\n",
    "\n",
    "validation_latent = tf.concat(validation_latent, axis=0)\n",
    "\n",
    "pickle.dump(validation_latent, last_TDI_question_file2)"
   ]
  },
  {
   "cell_type": "code",
   "execution_count": 75,
   "metadata": {},
   "outputs": [],
   "source": [
    "model4 = keras.models.Sequential()\n",
    "\n",
    "model4.add(\n",
    "    keras.layers.Dense(\n",
    "        hidden_size,\n",
    "        activation='relu',\n",
    "        use_bias=True,  # The default\n",
    "        kernel_initializer=keras.initializers.TruncatedNormal(stddev=2048**-0.5)\n",
    "    )\n",
    ")\n",
    "\n",
    "model4.add(\n",
    "    keras.layers.Dense(\n",
    "        10,\n",
    "        activation='softmax',\n",
    "        use_bias=True,  # The default\n",
    "    )\n",
    ")"
   ]
  },
  {
   "cell_type": "code",
   "execution_count": 76,
   "metadata": {},
   "outputs": [],
   "source": [
    "model4.compile(loss='categorical_crossentropy',\n",
    "              optimizer=keras.optimizers.SGD(lr=0.01),\n",
    "              metrics=['accuracy'])"
   ]
  },
  {
   "cell_type": "code",
   "execution_count": 78,
   "metadata": {},
   "outputs": [
    {
     "name": "stdout",
     "output_type": "stream",
     "text": [
      "Epoch 1/25\n",
      "167/167 [==============================] - 3s 19ms/step - loss: 1.2726 - accuracy: 0.6641\n",
      "Epoch 2/25\n",
      "167/167 [==============================] - 3s 19ms/step - loss: 0.7430 - accuracy: 0.7745\n",
      "Epoch 3/25\n",
      "167/167 [==============================] - 3s 19ms/step - loss: 0.6443 - accuracy: 0.7913\n",
      "Epoch 4/25\n",
      "167/167 [==============================] - 3s 20ms/step - loss: 0.5969 - accuracy: 0.8028\n",
      "Epoch 5/25\n",
      "167/167 [==============================] - 3s 19ms/step - loss: 0.5675 - accuracy: 0.8109\n",
      "Epoch 6/25\n",
      "167/167 [==============================] - 3s 19ms/step - loss: 0.5462 - accuracy: 0.8174\n",
      "Epoch 7/25\n",
      "167/167 [==============================] - 3s 20ms/step - loss: 0.5292 - accuracy: 0.8231\n",
      "Epoch 8/25\n",
      "167/167 [==============================] - 3s 19ms/step - loss: 0.5152 - accuracy: 0.8261\n",
      "Epoch 9/25\n",
      "167/167 [==============================] - 3s 19ms/step - loss: 0.5039 - accuracy: 0.8294\n",
      "Epoch 10/25\n",
      "167/167 [==============================] - 3s 19ms/step - loss: 0.4936 - accuracy: 0.8319\n",
      "Epoch 11/25\n",
      "167/167 [==============================] - 3s 19ms/step - loss: 0.4848 - accuracy: 0.8351\n",
      "Epoch 12/25\n",
      "167/167 [==============================] - 3s 19ms/step - loss: 0.4769 - accuracy: 0.8376\n",
      "Epoch 13/25\n",
      "167/167 [==============================] - 3s 20ms/step - loss: 0.4698 - accuracy: 0.8396\n",
      "Epoch 14/25\n",
      "167/167 [==============================] - 3s 19ms/step - loss: 0.4636 - accuracy: 0.8427\n",
      "Epoch 15/25\n",
      "167/167 [==============================] - 3s 19ms/step - loss: 0.4572 - accuracy: 0.8450\n",
      "Epoch 16/25\n",
      "167/167 [==============================] - 3s 19ms/step - loss: 0.4520 - accuracy: 0.8460\n",
      "Epoch 17/25\n",
      "167/167 [==============================] - 3s 19ms/step - loss: 0.4465 - accuracy: 0.8475\n",
      "Epoch 18/25\n",
      "167/167 [==============================] - 3s 19ms/step - loss: 0.4418 - accuracy: 0.8490\n",
      "Epoch 19/25\n",
      "167/167 [==============================] - 3s 19ms/step - loss: 0.4369 - accuracy: 0.8505\n",
      "Epoch 20/25\n",
      "167/167 [==============================] - 3s 19ms/step - loss: 0.4328 - accuracy: 0.8519\n",
      "Epoch 21/25\n",
      "167/167 [==============================] - 3s 19ms/step - loss: 0.4289 - accuracy: 0.8537\n",
      "Epoch 22/25\n",
      "167/167 [==============================] - 3s 19ms/step - loss: 0.4251 - accuracy: 0.8547\n",
      "Epoch 23/25\n",
      "167/167 [==============================] - 3s 19ms/step - loss: 0.4213 - accuracy: 0.8555\n",
      "Epoch 24/25\n",
      "167/167 [==============================] - 3s 19ms/step - loss: 0.4179 - accuracy: 0.8565\n",
      "Epoch 25/25\n",
      "167/167 [==============================] - 3s 19ms/step - loss: 0.4149 - accuracy: 0.8579\n"
     ]
    }
   ],
   "source": [
    "history4 = model4.fit(latent_vec, y_train_hot,\n",
    "                    epochs=25,\n",
    "                    batch_size=300)"
   ]
  },
  {
   "cell_type": "code",
   "execution_count": 80,
   "metadata": {},
   "outputs": [],
   "source": [
    "predicted_classes = np.argmax(model4.predict(validation_latent),axis=1)"
   ]
  }
 ],
 "metadata": {
  "kernelspec": {
   "display_name": "Python 3",
   "language": "python",
   "name": "python3"
  },
  "language_info": {
   "codemirror_mode": {
    "name": "ipython",
    "version": 3
   },
   "file_extension": ".py",
   "mimetype": "text/x-python",
   "name": "python",
   "nbconvert_exporter": "python",
   "pygments_lexer": "ipython3",
   "version": "3.8.3"
  },
  "nbclean": true
 },
 "nbformat": 4,
 "nbformat_minor": 4
}
